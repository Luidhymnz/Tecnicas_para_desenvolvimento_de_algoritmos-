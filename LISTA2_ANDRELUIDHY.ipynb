{
  "nbformat": 4,
  "nbformat_minor": 0,
  "metadata": {
    "colab": {
      "provenance": [],
      "authorship_tag": "ABX9TyNwDE9TrnjHg8IF9F3Dg5HM",
      "include_colab_link": true
    },
    "kernelspec": {
      "name": "python3",
      "display_name": "Python 3"
    },
    "language_info": {
      "name": "python"
    }
  },
  "cells": [
    {
      "cell_type": "markdown",
      "metadata": {
        "id": "view-in-github",
        "colab_type": "text"
      },
      "source": [
        "<a href=\"https://colab.research.google.com/github/Luidhymnz/Tecnicas_para_desenvolvimento_de_algoritmos-/blob/main/LISTA2_ANDRELUIDHY.ipynb\" target=\"_parent\"><img src=\"https://colab.research.google.com/assets/colab-badge.svg\" alt=\"Open In Colab\"/></a>"
      ]
    },
    {
      "cell_type": "markdown",
      "source": [
        "Nome: André Luidhy Menezes Barbosa\n",
        "\n",
        "RGM: 43938451\n",
        "\n",
        "Turma: Cienência da computação\n",
        "\n",
        "Matéria: Técnicas de Desenvolvimento de Algoritmos\n",
        "\n",
        "![baixados.webp](data:image/webp;base64,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)"
      ],
      "metadata": {
        "id": "glxeMtaDMi6g"
      }
    },
    {
      "cell_type": "markdown",
      "source": [
        "# LISTA 3 - **EXERCÍCIOS**"
      ],
      "metadata": {
        "id": "jDFVQN3PUgJP"
      }
    },
    {
      "cell_type": "code",
      "source": [
        "# 1. \"Hello World!\" 10 vezes lado a lado\n",
        "print(\" \".join([\"Hello World!\"] * 10))\n"
      ],
      "metadata": {
        "id": "hIsYcr5GTn8y"
      },
      "execution_count": null,
      "outputs": []
    },
    {
      "cell_type": "code",
      "source": [
        "# 2. \"Hello World!\" 10 vezes, um por linha\n",
        "for _ in range(10):\n",
        "    print(\"Hello World!\")"
      ],
      "metadata": {
        "id": "S8EavZhwTn5f"
      },
      "execution_count": null,
      "outputs": []
    },
    {
      "cell_type": "code",
      "source": [
        "# 3. Números inteiros de 1 até 100\n",
        "for i in range(1, 101):\n",
        "    print(i)"
      ],
      "metadata": {
        "id": "A1JjW81ITn3f"
      },
      "execution_count": null,
      "outputs": []
    },
    {
      "cell_type": "code",
      "source": [
        "\n",
        "# 4. \"1- Hello World!\" até 100 vezes\n",
        "for i in range(1, 101):\n",
        "    print(f\"{i}- Hello World!\")\n"
      ],
      "metadata": {
        "id": "0ow_636UTnxt"
      },
      "execution_count": null,
      "outputs": []
    },
    {
      "cell_type": "code",
      "source": [
        "# 5. Números decrescentes de 100 até 0\n",
        "for i in range(100, -1, -1):\n",
        "    print(i)\n"
      ],
      "metadata": {
        "id": "f4JqqTjgTnuK"
      },
      "execution_count": null,
      "outputs": []
    },
    {
      "cell_type": "code",
      "source": [
        "# 6. Números pares de 1 até 1000\n",
        "for i in range(2, 1001, 2):\n",
        "    print(i)\n"
      ],
      "metadata": {
        "id": "HvRYgi8kTnrK"
      },
      "execution_count": null,
      "outputs": []
    },
    {
      "cell_type": "code",
      "source": [
        "\n",
        "# 7. Números ímpares de 1000 até 0\n",
        "for i in range(999, -1, -2):\n",
        "    print(i)"
      ],
      "metadata": {
        "id": "BYYqEoFPTnpP"
      },
      "execution_count": null,
      "outputs": []
    },
    {
      "cell_type": "code",
      "source": [
        "# 8. Soma dos 100 primeiros números inteiros positivos\n",
        "soma = sum(range(1, 101))\n",
        "print(\"Soma dos 100 primeiros números:\", soma)"
      ],
      "metadata": {
        "id": "TnmPQ3Y2TnnL"
      },
      "execution_count": null,
      "outputs": []
    },
    {
      "cell_type": "code",
      "source": [
        "\n",
        "# 9. Quantas vezes imprimir \"Hello World!\"\n",
        "n = int(input(\"Digite um número: \"))\n",
        "for _ in range(n):\n",
        "    print(\"Hello World!\")"
      ],
      "metadata": {
        "id": "nDVJnbx1TnlG"
      },
      "execution_count": null,
      "outputs": []
    },
    {
      "cell_type": "code",
      "source": [
        "# 10. Palavra repetida N vezes\n",
        "palavra = input(\"Digite uma palavra: \")\n",
        "n = int(input(\"Digite a quantidade de vezes: \"))\n",
        "for _ in range(n):\n",
        "    print(palavra)"
      ],
      "metadata": {
        "id": "LXVeH4lUTndY"
      },
      "execution_count": null,
      "outputs": []
    },
    {
      "cell_type": "code",
      "source": [
        "# 11. Soma e média de N números\n",
        "n = int(input(\"Quantos números deseja informar? \"))\n",
        "numeros = [float(input(\"Digite um número: \")) for _ in range(n)]\n",
        "print(\"Soma:\", sum(numeros))\n",
        "print(\"Média:\", sum(numeros) / n if n > 0 else 0)"
      ],
      "metadata": {
        "id": "1XITZRUEUGu2"
      },
      "execution_count": null,
      "outputs": []
    },
    {
      "cell_type": "code",
      "source": [
        "# 12. Nome da pessoa mais velha\n",
        "n = int(input(\"Quantas pessoas deseja informar? \"))\n",
        "mais_velho_nome = \"\"\n",
        "mais_velho_idade = -1\n",
        "for _ in range(n):\n",
        "    nome = input(\"Nome: \")\n",
        "    idade = int(input(\"Idade: \"))\n",
        "    if idade > mais_velho_idade:\n",
        "        mais_velho_idade = idade\n",
        "        mais_velho_nome = nome\n",
        "print(\"Pessoa mais velha:\", mais_velho_nome)"
      ],
      "metadata": {
        "id": "Au6Uy9BpUIP2"
      },
      "execution_count": null,
      "outputs": []
    },
    {
      "cell_type": "code",
      "source": [
        "# 13. Média de idade por gênero\n",
        "n = int(input(\"Quantas pessoas deseja informar? \"))\n",
        "idades_m, idades_f = [], []\n",
        "for _ in range(n):\n",
        "    sexo = input(\"Sexo (M/F): \").upper()\n",
        "    idade = int(input(\"Idade: \"))\n",
        "    if sexo == \"M\":\n",
        "        idades_m.append(idade)\n",
        "    elif sexo == \"F\":\n",
        "        idades_f.append(idade)\n",
        "print(\"Média Masculina:\", sum(idades_m)/len(idades_m) if idades_m else 0)\n",
        "print(\"Média Feminina:\", sum(idades_f)/len(idades_f) if idades_f else 0)"
      ],
      "metadata": {
        "id": "rSR05fgPUIGh"
      },
      "execution_count": null,
      "outputs": []
    },
    {
      "cell_type": "code",
      "source": [
        "# 14. Maior e menor entre 10 números reais\n",
        "numeros = [float(input(f\"Digite o {i+1}º número: \")) for i in range(10)]\n",
        "print(\"Maior:\", max(numeros))\n",
        "print(\"Menor:\", min(numeros))"
      ],
      "metadata": {
        "id": "UefdAQQmUGrj"
      },
      "execution_count": null,
      "outputs": []
    },
    {
      "cell_type": "code",
      "source": [
        "# 15. Ordenar números reais até digitar 0\n",
        "numeros = []\n",
        "while True:\n",
        "    n = float(input(\"Digite um número (0 para parar): \"))\n",
        "    if n == 0:\n",
        "        break\n",
        "    numeros.append(n)\n",
        "print(\"Números em ordem crescente:\", sorted(numeros))"
      ],
      "metadata": {
        "id": "sTOpM6jNUGpt"
      },
      "execution_count": null,
      "outputs": []
    },
    {
      "cell_type": "code",
      "source": [
        "# 16. Estatísticas de idades dos alunos\n",
        "idades = []\n",
        "while True:\n",
        "    idade = int(input(\"Digite a idade do aluno: \"))\n",
        "    idades.append(idade)\n",
        "    cont = input(\"Deseja informar a idade do próximo aluno? (S/N): \").upper()\n",
        "    if cont != \"S\":\n",
        "        break\n",
        "\n",
        "mais_novo = min(idades)\n",
        "mais_velho = max(idades)\n",
        "maiores_18 = sum(1 for i in idades if i > 18)\n",
        "ate_18 = sum(1 for i in idades if i <= 18)\n",
        "media = sum(idades) / len(idades)\n",
        "\n",
        "# cálculo da mediana\n",
        "idades.sort()\n",
        "n = len(idades)\n",
        "if n % 2 == 1:\n",
        "    mediana = idades[n//2]\n",
        "else:\n",
        "    mediana = (idades[n//2 - 1] + idades[n//2]) / 2\n",
        "\n",
        "print(\"Mais novo:\", mais_novo)\n",
        "print(\"Mais velho:\", mais_velho)\n",
        "print(\"Alunos > 18:\", maiores_18)\n",
        "print(\"Alunos <= 18:\", ate_18)\n",
        "print(\"Média:\", media)\n",
        "print(\"Mediana:\", mediana)\n"
      ],
      "metadata": {
        "id": "GZhD1jFfUbhs"
      },
      "execution_count": null,
      "outputs": []
    }
  ]
}